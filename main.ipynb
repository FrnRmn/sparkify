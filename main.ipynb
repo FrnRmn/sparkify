{
 "cells": [
  {
   "cell_type": "markdown",
   "metadata": {},
   "source": [
    "# Sparkify Project Workspace\n",
    "This workspace contains a tiny subset (128MB) of the full dataset available (12GB). Feel free to use this workspace to build your project, or to explore a smaller subset with Spark before deploying your cluster on the cloud. Instructions for setting up your Spark cluster is included in the last lesson of the Extracurricular Spark Course content.\n",
    "\n",
    "You can follow the steps below to guide your data analysis and model building portion of this project."
   ]
  },
  {
   "cell_type": "code",
   "execution_count": 68,
   "metadata": {},
   "outputs": [],
   "source": [
    "# import libraries\n",
    "from pyspark import SparkConf, SparkContext\n",
    "from pyspark.sql import SparkSession\n",
    "from pyspark.sql import functions as F\n",
    "from pyspark.sql.functions import udf\n",
    "from pyspark.ml.feature import VectorAssembler\n",
    "from pyspark.sql.types import IntegerType, FloatType\n",
    "from pyspark.ml.classification import LogisticRegression, LinearSVC, RandomForestClassifier\n",
    "from pyspark.ml.regression import GeneralizedLinearRegression\n",
    "from pyspark.ml.evaluation import MulticlassClassificationEvaluator\n",
    "from pyspark.ml.tuning import ParamGridBuilder, CrossValidator, CrossValidatorModel\n",
    "from pyspark.mllib.evaluation import MulticlassMetrics\n",
    "import re\n",
    "import collections\n",
    "import matplotlib.pyplot as plt\n",
    "import seaborn as sns\n",
    "import numpy as np"
   ]
  },
  {
   "cell_type": "code",
   "execution_count": 2,
   "metadata": {},
   "outputs": [],
   "source": [
    "# create a Spark session\n",
    "spark = SparkSession \\\n",
    "        .builder \\\n",
    "        .master(\"local\") \\\n",
    "        .appName(\"FinalProjectNew\") \\\n",
    "        .getOrCreate()"
   ]
  },
  {
   "cell_type": "markdown",
   "metadata": {},
   "source": [
    "# Load and Clean Dataset\n",
    "In this workspace, the mini-dataset file is `mini_sparkify_event_data.json`. Load and clean the dataset, checking for invalid or missing data - for example, records without userids or sessionids. "
   ]
  },
  {
   "cell_type": "code",
   "execution_count": 3,
   "metadata": {},
   "outputs": [],
   "source": [
    "data = spark.read.json(\"mini_sparkify_event_data.json\")"
   ]
  },
  {
   "cell_type": "code",
   "execution_count": 4,
   "metadata": {},
   "outputs": [
    {
     "name": "stdout",
     "output_type": "stream",
     "text": [
      "root\n",
      " |-- artist: string (nullable = true)\n",
      " |-- auth: string (nullable = true)\n",
      " |-- firstName: string (nullable = true)\n",
      " |-- gender: string (nullable = true)\n",
      " |-- itemInSession: long (nullable = true)\n",
      " |-- lastName: string (nullable = true)\n",
      " |-- length: double (nullable = true)\n",
      " |-- level: string (nullable = true)\n",
      " |-- location: string (nullable = true)\n",
      " |-- method: string (nullable = true)\n",
      " |-- page: string (nullable = true)\n",
      " |-- registration: long (nullable = true)\n",
      " |-- sessionId: long (nullable = true)\n",
      " |-- song: string (nullable = true)\n",
      " |-- status: long (nullable = true)\n",
      " |-- ts: long (nullable = true)\n",
      " |-- userAgent: string (nullable = true)\n",
      " |-- userId: string (nullable = true)\n",
      "\n"
     ]
    }
   ],
   "source": [
    "data.printSchema()"
   ]
  },
  {
   "cell_type": "markdown",
   "metadata": {},
   "source": [
    "### Missing Values"
   ]
  },
  {
   "cell_type": "code",
   "execution_count": 5,
   "metadata": {},
   "outputs": [
    {
     "name": "stdout",
     "output_type": "stream",
     "text": [
      "# rows before: 286500\n",
      "# rows after: 286500\n"
     ]
    }
   ],
   "source": [
    "# Drop any rows with missing values in UserId or SessionId columns\n",
    "print(\"# rows before: \" + str(data.count()))\n",
    "print(\"# rows after: \" + str(data.dropna(how = \"any\", subset = [\"userId\", \"sessionId\"]).count()))"
   ]
  },
  {
   "cell_type": "markdown",
   "metadata": {},
   "source": [
    "Apparently there are no missing values in those columns, however it seems that userId contains unusual values:"
   ]
  },
  {
   "cell_type": "code",
   "execution_count": 6,
   "metadata": {},
   "outputs": [
    {
     "name": "stdout",
     "output_type": "stream",
     "text": [
      "+------+\n",
      "|userId|\n",
      "+------+\n",
      "|      |\n",
      "|    10|\n",
      "|   100|\n",
      "|100001|\n",
      "|100002|\n",
      "+------+\n",
      "only showing top 5 rows\n",
      "\n"
     ]
    }
   ],
   "source": [
    "# Check unique values for userId\n",
    "data.select('userId').dropDuplicates().orderBy('userId').show(5)"
   ]
  },
  {
   "cell_type": "code",
   "execution_count": 7,
   "metadata": {},
   "outputs": [
    {
     "name": "stdout",
     "output_type": "stream",
     "text": [
      "+------+\n",
      "|userId|\n",
      "+------+\n",
      "|    10|\n",
      "|   100|\n",
      "|100001|\n",
      "|100002|\n",
      "|100003|\n",
      "+------+\n",
      "only showing top 5 rows\n",
      "\n"
     ]
    }
   ],
   "source": [
    "# Remove blank userId and check again\n",
    "cleaned_data = data.where(data.userId != '').dropDuplicates()\n",
    "cleaned_data.select('userId').dropDuplicates().orderBy('userId').show(5)"
   ]
  },
  {
   "cell_type": "code",
   "execution_count": 8,
   "metadata": {},
   "outputs": [
    {
     "name": "stdout",
     "output_type": "stream",
     "text": [
      "+---------+\n",
      "|sessionId|\n",
      "+---------+\n",
      "|        1|\n",
      "|        2|\n",
      "|        3|\n",
      "|        4|\n",
      "|        5|\n",
      "+---------+\n",
      "only showing top 5 rows\n",
      "\n"
     ]
    }
   ],
   "source": [
    "# Check if the same problem can be found in sessionId\n",
    "cleaned_data.select('sessionId').dropDuplicates().orderBy('sessionId').show(5)"
   ]
  },
  {
   "cell_type": "markdown",
   "metadata": {},
   "source": [
    "There are other missing values, yet we will keep all the rows that can be identified by userId and sessionID"
   ]
  },
  {
   "cell_type": "markdown",
   "metadata": {},
   "source": [
    "# Exploratory Data Analysis\n",
    "When you're working with the full dataset, perform EDA by loading a small subset of the data and doing basic manipulations within Spark. In this workspace, you are already provided a small subset of data you can explore.\n",
    "\n",
    "### Define Churn\n",
    "\n",
    "Once you've done some preliminary analysis, create a column `Churn` to use as the label for your model. I suggest using the `Cancellation Confirmation` events to define your churn, which happen for both paid and free users. As a bonus task, you can also look into the `Downgrade` events.\n",
    "\n",
    "### Explore Data\n",
    "Once you've defined churn, perform some exploratory data analysis to observe the behavior for users who stayed vs users who churned. You can start by exploring aggregates on these two groups of users, observing how much of a specific action they experienced per a certain time unit or number of songs played."
   ]
  },
  {
   "cell_type": "code",
   "execution_count": 9,
   "metadata": {},
   "outputs": [
    {
     "name": "stdout",
     "output_type": "stream",
     "text": [
      "The dataset has shape: (278154, 18)\n"
     ]
    }
   ],
   "source": [
    "# Size of dataset\n",
    "print(\"The dataset has shape: ({}, {})\".format(cleaned_data.count(), len(cleaned_data.columns)))"
   ]
  },
  {
   "cell_type": "code",
   "execution_count": 10,
   "metadata": {},
   "outputs": [
    {
     "data": {
      "text/plain": [
       "225"
      ]
     },
     "execution_count": 10,
     "metadata": {},
     "output_type": "execute_result"
    }
   ],
   "source": [
    "# Total number of users\n",
    "tot_users = cleaned_data.select('userId').dropDuplicates()\n",
    "tot_users.count()"
   ]
  },
  {
   "cell_type": "code",
   "execution_count": 11,
   "metadata": {},
   "outputs": [
    {
     "name": "stdout",
     "output_type": "stream",
     "text": [
      "+--------------------+\n",
      "|                page|\n",
      "+--------------------+\n",
      "|              Cancel|\n",
      "|    Submit Downgrade|\n",
      "|         Thumbs Down|\n",
      "|                Home|\n",
      "|           Downgrade|\n",
      "|         Roll Advert|\n",
      "|              Logout|\n",
      "|       Save Settings|\n",
      "|Cancellation Conf...|\n",
      "|               About|\n",
      "|            Settings|\n",
      "|     Add to Playlist|\n",
      "|          Add Friend|\n",
      "|            NextSong|\n",
      "|           Thumbs Up|\n",
      "|                Help|\n",
      "|             Upgrade|\n",
      "|               Error|\n",
      "|      Submit Upgrade|\n",
      "+--------------------+\n",
      "\n"
     ]
    }
   ],
   "source": [
    "# Page column\n",
    "cleaned_data.select('page').drop_duplicates().show()"
   ]
  },
  {
   "cell_type": "code",
   "execution_count": 12,
   "metadata": {},
   "outputs": [
    {
     "name": "stdout",
     "output_type": "stream",
     "text": [
      "+------+-----------+------+\n",
      "|userId|       page|cancel|\n",
      "+------+-----------+------+\n",
      "|    78|   NextSong| false|\n",
      "|    78|Thumbs Down| false|\n",
      "|    25|   NextSong| false|\n",
      "|    15|   NextSong| false|\n",
      "|    27|       Home| false|\n",
      "+------+-----------+------+\n",
      "only showing top 5 rows\n",
      "\n"
     ]
    }
   ],
   "source": [
    "# Tag cancellation with a new column\n",
    "tagged_data = cleaned_data.withColumn('cancel', cleaned_data.page == 'Cancellation Confirmation')\n",
    "tagged_data.select('userId', 'page','cancel').show(5)"
   ]
  },
  {
   "cell_type": "code",
   "execution_count": 13,
   "metadata": {},
   "outputs": [
    {
     "name": "stdout",
     "output_type": "stream",
     "text": [
      "52\n"
     ]
    }
   ],
   "source": [
    "# Find users who has canceled\n",
    "canc_users = tagged_data.select('userId').where(tagged_data.cancel == 'true').dropDuplicates()\n",
    "print(canc_users.count())"
   ]
  },
  {
   "cell_type": "code",
   "execution_count": 14,
   "metadata": {},
   "outputs": [],
   "source": [
    "# Prepare Dataframe\n",
    "X = tot_users.orderBy('userId')"
   ]
  },
  {
   "cell_type": "code",
   "execution_count": 15,
   "metadata": {},
   "outputs": [
    {
     "name": "stdout",
     "output_type": "stream",
     "text": [
      "+------+------+\n",
      "|userId|target|\n",
      "+------+------+\n",
      "|    10|     0|\n",
      "|   100|     0|\n",
      "|100001|     1|\n",
      "|100002|     0|\n",
      "|100003|     1|\n",
      "+------+------+\n",
      "only showing top 5 rows\n",
      "\n"
     ]
    }
   ],
   "source": [
    "# Add targets\n",
    "list_canc = list(canc_users.orderBy('userId').toPandas()['userId'].values)\n",
    "insert_targets = udf(lambda user: 1 if (user in list_canc) else 0, IntegerType())\n",
    "X = X.withColumn('target', insert_targets(X.userId))\n",
    "X.show(5)"
   ]
  },
  {
   "cell_type": "code",
   "execution_count": 16,
   "metadata": {
    "scrolled": true
   },
   "outputs": [
    {
     "name": "stdout",
     "output_type": "stream",
     "text": [
      "+------+-----+\n",
      "|target|count|\n",
      "+------+-----+\n",
      "|     1|   52|\n",
      "|     0|  173|\n",
      "+------+-----+\n",
      "\n"
     ]
    }
   ],
   "source": [
    "# How many users have cancelled and how many are still registered?\n",
    "X.groupBy('target').count().show()"
   ]
  },
  {
   "cell_type": "markdown",
   "metadata": {},
   "source": [
    "173 users are still registered, while 52 users have canceled the account"
   ]
  },
  {
   "cell_type": "markdown",
   "metadata": {},
   "source": [
    "### Page Activity"
   ]
  },
  {
   "cell_type": "code",
   "execution_count": 17,
   "metadata": {},
   "outputs": [
    {
     "name": "stdout",
     "output_type": "stream",
     "text": [
      "+------+-----+----------+---------------+------+-------------------------+---------+-----+----+----+------+--------+-----------+-------------+--------+----------------+--------------+-----------+---------+-------+\n",
      "|userId|About|Add Friend|Add to Playlist|Cancel|Cancellation Confirmation|Downgrade|Error|Help|Home|Logout|NextSong|Roll Advert|Save Settings|Settings|Submit Downgrade|Submit Upgrade|Thumbs Down|Thumbs Up|Upgrade|\n",
      "+------+-----+----------+---------------+------+-------------------------+---------+-----+----+----+------+--------+-----------+-------------+--------+----------------+--------------+-----------+---------+-------+\n",
      "|200002|    3|         4|              8|     0|                        0|        5|    0|   2|  20|     5|     387|          7|            0|       3|               0|             1|          6|       21|      2|\n",
      "+------+-----+----------+---------------+------+-------------------------+---------+-----+----+----+------+--------+-----------+-------------+--------+----------------+--------------+-----------+---------+-------+\n",
      "only showing top 1 row\n",
      "\n"
     ]
    }
   ],
   "source": [
    "# Create dataframe with one row for each user and one column for each page, each entry is the count activity for the respecitives user-page\n",
    "page_df = cleaned_data.select('userId','page').groupBy('userId','page').count().orderBy('userId','page').groupBy('userId').pivot('page').sum('count')\n",
    "\n",
    "# Replace null values with 0s\n",
    "page_df = page_df.na.fill(0)\n",
    "\n",
    "# Check one row\n",
    "page_df.show(1)"
   ]
  },
  {
   "cell_type": "code",
   "execution_count": 18,
   "metadata": {},
   "outputs": [
    {
     "name": "stdout",
     "output_type": "stream",
     "text": [
      "+------+------+-----+----------+---------------+------+-------------------------+---------+-----+----+----+------+--------+-----------+-------------+--------+----------------+--------------+-----------+---------+-------+\n",
      "|userId|target|About|Add Friend|Add to Playlist|Cancel|Cancellation Confirmation|Downgrade|Error|Help|Home|Logout|NextSong|Roll Advert|Save Settings|Settings|Submit Downgrade|Submit Upgrade|Thumbs Down|Thumbs Up|Upgrade|\n",
      "+------+------+-----+----------+---------------+------+-------------------------+---------+-----+----+----+------+--------+-----------+-------------+--------+----------------+--------------+-----------+---------+-------+\n",
      "|   100|     0|   12|        49|             61|     0|                        0|       30|    3|  18| 105|    35|    2682|         25|            5|      11|               1|             1|         27|      148|      1|\n",
      "|    10|     0|    2|        12|              9|     0|                        0|        7|    0|   1|  30|    11|     673|          1|            1|       7|               0|             0|          4|       37|      0|\n",
      "|100002|     0|    0|         1|              5|     0|                        0|        2|    0|   0|   6|     1|     195|          3|            0|       0|               0|             0|          0|        5|      0|\n",
      "+------+------+-----+----------+---------------+------+-------------------------+---------+-----+----+----+------+--------+-----------+-------------+--------+----------------+--------------+-----------+---------+-------+\n",
      "only showing top 3 rows\n",
      "\n"
     ]
    }
   ],
   "source": [
    "# Join to main dataset\n",
    "X = X.join(page_df, on='userId', how='left')\n",
    "X.show(3)"
   ]
  },
  {
   "cell_type": "code",
   "execution_count": 19,
   "metadata": {},
   "outputs": [
    {
     "data": {
      "image/png": "[encoded data removed]",
      "text/plain": [
       "<Figure size 1080x288 with 1 Axes>"
      ]
     },
     "metadata": {
      "needs_background": "light"
     },
     "output_type": "display_data"
    }
   ],
   "source": [
    "# Explore Churn vs Active\n",
    "churn_df_page = X.where(X.target == 1).toPandas().iloc[:,2:]\n",
    "active_df_page = X.where(X.target == 0).toPandas().iloc[:,2:]\n",
    "\n",
    "# Plot means for each group\n",
    "fig, ax = plt.subplots(figsize=(15,4))\n",
    "ax.bar(x=np.arange(len(churn_df_page.mean()))-0.2, height=churn_df_page.mean(), width=0.4, color='#A6A6A4')\n",
    "ax.bar(x=np.arange(len(active_df_page.mean()))+0.2, height=active_df_page.mean(), width=0.4, color='#1572A1')\n",
    "plt.xticks(np.arange(len(active_df_page.mean())), churn_df_page.columns, rotation=90)\n",
    "plt.legend(['Churn', 'Active']);"
   ]
  },
  {
   "cell_type": "markdown",
   "metadata": {},
   "source": [
    "### Famous Artists"
   ]
  },
  {
   "cell_type": "code",
   "execution_count": 20,
   "metadata": {},
   "outputs": [
    {
     "name": "stdout",
     "output_type": "stream",
     "text": [
      "+------+--------------+\n",
      "|userId|famous_artists|\n",
      "+------+--------------+\n",
      "|200002|            52|\n",
      "|100010|            33|\n",
      "|   125|             1|\n",
      "|    51|           262|\n",
      "|   124|           554|\n",
      "+------+--------------+\n",
      "only showing top 5 rows\n",
      "\n"
     ]
    }
   ],
   "source": [
    "# Find most popular artists with >= N song listened\n",
    "n = 500\n",
    "ordered_artists = cleaned_data.select('artist').dropna().groupBy('artist').count().orderBy('count', ascending=False)\n",
    "famous_artists = ordered_artists.where(ordered_artists['count'] > n)\n",
    "\n",
    "# Create dataframe with one row for each user and one column representing how many songs from famous artists the user has listened to\n",
    "artist_df = cleaned_data.select('userId','artist').where(cleaned_data.artist.isin(list(famous_artists.toPandas()['artist'].values))).groupBy('userId','artist').count().orderBy('userID','count', ascending=False)\n",
    "user_famous_df = artist_df.groupBy('userId').agg(F.sum('count').alias('famous_artists'))\n",
    "user_famous_df.show(5)"
   ]
  },
  {
   "cell_type": "code",
   "execution_count": 21,
   "metadata": {},
   "outputs": [
    {
     "data": {
      "text/plain": [
       "[Row(userId='100', target=0, About=12, Add Friend=49, Add to Playlist=61, Cancel=0, Cancellation Confirmation=0, Downgrade=30, Error=3, Help=18, Home=105, Logout=35, NextSong=2682, Roll Advert=25, Save Settings=5, Settings=11, Submit Downgrade=1, Submit Upgrade=1, Thumbs Down=27, Thumbs Up=148, Upgrade=1, famous_artists=322),\n",
       " Row(userId='10', target=0, About=2, Add Friend=12, Add to Playlist=9, Cancel=0, Cancellation Confirmation=0, Downgrade=7, Error=0, Help=1, Home=30, Logout=11, NextSong=673, Roll Advert=1, Save Settings=1, Settings=7, Submit Downgrade=0, Submit Upgrade=0, Thumbs Down=4, Thumbs Up=37, Upgrade=0, famous_artists=79),\n",
       " Row(userId='100001', target=1, About=0, Add Friend=2, Add to Playlist=3, Cancel=1, Cancellation Confirmation=1, Downgrade=0, Error=1, Help=1, Home=11, Logout=7, NextSong=133, Roll Advert=14, Save Settings=0, Settings=1, Submit Downgrade=0, Submit Upgrade=0, Thumbs Down=2, Thumbs Up=8, Upgrade=2, famous_artists=16)]"
      ]
     },
     "execution_count": 21,
     "metadata": {},
     "output_type": "execute_result"
    }
   ],
   "source": [
    "# Join to main dataset\n",
    "X = X.join(user_famous_df, on='userId', how='left').na.fill(0)\n",
    "X.take(3)"
   ]
  },
  {
   "cell_type": "code",
   "execution_count": 22,
   "metadata": {},
   "outputs": [
    {
     "data": {
      "image/png": "[encoded data removed]",
      "text/plain": [
       "<Figure size 432x288 with 1 Axes>"
      ]
     },
     "metadata": {
      "needs_background": "light"
     },
     "output_type": "display_data"
    }
   ],
   "source": [
    "# Explore Churn vs Active\n",
    "churn_df_artist = X.where(X.target == 1).toPandas().loc[:,'famous_artists']\n",
    "active_df_artist = X.where(X.target == 0).toPandas().loc[:,'famous_artists']\n",
    "\n",
    "# Plot means for each group\n",
    "plt.bar(x=[0,1], height=[churn_df_artist.mean(),active_df_artist.mean()], color=['#A6A6A4','#1572A1'])\n",
    "plt.xticks([0,1], ['Churn', 'Active']);"
   ]
  },
  {
   "cell_type": "markdown",
   "metadata": {},
   "source": [
    "### Subscription Level"
   ]
  },
  {
   "cell_type": "code",
   "execution_count": 23,
   "metadata": {},
   "outputs": [
    {
     "name": "stdout",
     "output_type": "stream",
     "text": [
      "+------+---+\n",
      "|userId|pay|\n",
      "+------+---+\n",
      "|200002|  1|\n",
      "|100010|  0|\n",
      "|   125|  0|\n",
      "|     7|  0|\n",
      "|   124|  1|\n",
      "+------+---+\n",
      "only showing top 5 rows\n",
      "\n"
     ]
    }
   ],
   "source": [
    "# Find users with paid level\n",
    "paid_level = udf(lambda paid_count : 0 if paid_count is None else 1, IntegerType())\n",
    "paid_df = cleaned_data.select('userId','level').groupBy('userId','level').count().orderBy('userId', 'level').groupBy('userId').pivot('level').sum('count')\n",
    "paid_df = paid_df.withColumn('pay', paid_level(paid_df.paid)).drop('free','paid')\n",
    "paid_df.show(5)"
   ]
  },
  {
   "cell_type": "code",
   "execution_count": 24,
   "metadata": {},
   "outputs": [
    {
     "data": {
      "text/plain": [
       "[Row(userId='100', target=0, About=12, Add Friend=49, Add to Playlist=61, Cancel=0, Cancellation Confirmation=0, Downgrade=30, Error=3, Help=18, Home=105, Logout=35, NextSong=2682, Roll Advert=25, Save Settings=5, Settings=11, Submit Downgrade=1, Submit Upgrade=1, Thumbs Down=27, Thumbs Up=148, Upgrade=1, famous_artists=322, pay=1),\n",
       " Row(userId='10', target=0, About=2, Add Friend=12, Add to Playlist=9, Cancel=0, Cancellation Confirmation=0, Downgrade=7, Error=0, Help=1, Home=30, Logout=11, NextSong=673, Roll Advert=1, Save Settings=1, Settings=7, Submit Downgrade=0, Submit Upgrade=0, Thumbs Down=4, Thumbs Up=37, Upgrade=0, famous_artists=79, pay=1),\n",
       " Row(userId='100001', target=1, About=0, Add Friend=2, Add to Playlist=3, Cancel=1, Cancellation Confirmation=1, Downgrade=0, Error=1, Help=1, Home=11, Logout=7, NextSong=133, Roll Advert=14, Save Settings=0, Settings=1, Submit Downgrade=0, Submit Upgrade=0, Thumbs Down=2, Thumbs Up=8, Upgrade=2, famous_artists=16, pay=0)]"
      ]
     },
     "execution_count": 24,
     "metadata": {},
     "output_type": "execute_result"
    }
   ],
   "source": [
    "# Join to main dataset\n",
    "X = X.join(paid_df, on='userId', how='left')\n",
    "X.take(3)"
   ]
  },
  {
   "cell_type": "code",
   "execution_count": 25,
   "metadata": {},
   "outputs": [
    {
     "data": {
      "image/png": "[encoded data removed]",
      "text/plain": [
       "<Figure size 432x288 with 1 Axes>"
      ]
     },
     "metadata": {
      "needs_background": "light"
     },
     "output_type": "display_data"
    }
   ],
   "source": [
    "# Explore Churn vs Active\n",
    "churn_df_paid = X.where(X.target == 1).toPandas().loc[:,'pay']\n",
    "active_df_paid = X.where(X.target == 0).toPandas().loc[:,'pay']\n",
    "\n",
    "# Plot means for each group\n",
    "plt.bar(x=[0,1], height=[churn_df_paid.mean(),active_df_paid.mean()], color=['#A6A6A4','#1572A1'])\n",
    "plt.xticks([0,1], ['Churn', 'Active']);"
   ]
  },
  {
   "cell_type": "markdown",
   "metadata": {},
   "source": [
    "# Feature Engineering\n",
    "Once you've familiarized yourself with the data, build out the features you find promising to train your model on. To work with the full dataset, you can follow the following steps.\n",
    "- Write a script to extract the necessary features from the smaller subset of data\n",
    "- Ensure that your script is scalable, using the best practices discussed in Lesson 3\n",
    "- Try your script on the full data set, debugging your script if necessary\n",
    "\n",
    "If you are working in the classroom workspace, you can just extract features based on the small subset of data contained here. Be sure to transfer over this work to the larger dataset when you work on your Spark cluster."
   ]
  },
  {
   "cell_type": "code",
   "execution_count": 26,
   "metadata": {},
   "outputs": [
    {
     "data": {
      "text/plain": [
       "[Row(userId='10', target=0, About=2, Add Friend=12, Add to Playlist=9, Cancel=0, Cancellation Confirmation=0, Downgrade=7, Error=0, Help=1, Home=30, Logout=11, NextSong=673, Roll Advert=1, Save Settings=1, Settings=7, Submit Downgrade=0, Submit Upgrade=0, Thumbs Down=4, Thumbs Up=37, Upgrade=0, famous_artists=79, pay=1)]"
      ]
     },
     "execution_count": 26,
     "metadata": {},
     "output_type": "execute_result"
    }
   ],
   "source": [
    "X.take(1)"
   ]
  },
  {
   "cell_type": "code",
   "execution_count": 27,
   "metadata": {},
   "outputs": [
    {
     "name": "stdout",
     "output_type": "stream",
     "text": [
      "About - Mean: 2.2, Std: 3.119638257417493\n",
      "Add Friend - Mean: 19.00888888888889, Std: 20.581716728496275\n",
      "Add to Playlist - Mean: 29.004444444444445, Std: 32.716653931055426\n",
      "Downgrade - Mean: 9.133333333333333, Std: 11.73441215278501\n",
      "Error - Mean: 1.12, Std: 1.4726070176973314\n",
      "Help - Mean: 6.4622222222222225, Std: 7.2425851519011974\n",
      "Home - Mean: 44.80888888888889, Std: 47.296121774630045\n",
      "Logout - Mean: 14.337777777777777, Std: 15.346347996360464\n",
      "NextSong - Mean: 1013.8133333333334, Std: 1104.9607785540882\n",
      "Roll Advert - Mean: 17.48, Std: 21.5502071584342\n",
      "Save Settings - Mean: 1.3777777777777778, Std: 1.7357698077212964\n",
      "Settings - Mean: 6.728888888888889, Std: 6.9835464224791\n",
      "Submit Downgrade - Mean: 0.28, Std: 0.5876709477736183\n",
      "Submit Upgrade - Mean: 0.7066666666666667, Std: 0.7338742593737899\n",
      "Thumbs Down - Mean: 11.315555555555555, Std: 13.077481251105503\n",
      "Thumbs Up - Mean: 55.782222222222224, Std: 65.47792460907044\n",
      "Upgrade - Mean: 2.2177777777777776, Std: 2.55853690829566\n",
      "famous_artists - Mean: 128.41333333333333, Std: 139.305460871322\n",
      "pay - Mean: 0.7333333333333333, Std: 0.4432026302139591\n"
     ]
    }
   ],
   "source": [
    "# Assess weather all variables have roughly the same standard deviation\n",
    "from pyspark.sql.functions import mean as _mean, stddev as _stddev, col\n",
    "\n",
    "columns = ['About', 'Add Friend', 'Add to Playlist', \n",
    "                                       'Downgrade', 'Error', 'Help', 'Home', 'Logout', \n",
    "                                       'NextSong', 'Roll Advert', 'Save Settings', 'Settings', \n",
    "                                       'Submit Downgrade', 'Submit Upgrade', 'Thumbs Down', 'Thumbs Up', \n",
    "                                       'Upgrade', 'famous_artists', 'pay']\n",
    "\n",
    "# Iterating over columns to be scaled\n",
    "for i in columns:\n",
    "    df_stats = X.select(\n",
    "        _mean(col(i)).alias('mean'),\n",
    "        _stddev(col(i)).alias('std')\n",
    "    ).collect()\n",
    "    mean = df_stats[0]['mean']\n",
    "    std = df_stats[0]['std']\n",
    "    print(f\"{i} - Mean: {mean}, Std: {std}\")"
   ]
  },
  {
   "cell_type": "markdown",
   "metadata": {},
   "source": [
    "Features distributions seems very different, standardize them might be misleading: https://quantifyinghealth.com/standardized-vs-unstandardized-regression-coefficients/.\n",
    "\n",
    "So I will continue to train the model with non-scaled features."
   ]
  },
  {
   "cell_type": "code",
   "execution_count": 28,
   "metadata": {},
   "outputs": [
    {
     "data": {
      "text/plain": [
       "[Row(userId='10', target=0, About=2, Add Friend=12, Add to Playlist=9, Cancel=0, Cancellation Confirmation=0, Downgrade=7, Error=0, Help=1, Home=30, Logout=11, NextSong=673, Roll Advert=1, Save Settings=1, Settings=7, Submit Downgrade=0, Submit Upgrade=0, Thumbs Down=4, Thumbs Up=37, Upgrade=0, famous_artists=79, pay=1, features=DenseVector([2.0, 12.0, 9.0, 7.0, 0.0, 1.0, 30.0, 11.0, 673.0, 1.0, 1.0, 7.0, 0.0, 0.0, 4.0, 37.0, 0.0, 79.0, 1.0]))]"
      ]
     },
     "execution_count": 28,
     "metadata": {},
     "output_type": "execute_result"
    }
   ],
   "source": [
    "assembler = VectorAssembler(inputCols=['About', 'Add Friend', 'Add to Playlist', \n",
    "                                       'Downgrade', 'Error', 'Help', 'Home', 'Logout', \n",
    "                                       'NextSong', 'Roll Advert', 'Save Settings', 'Settings', \n",
    "                                       'Submit Downgrade', 'Submit Upgrade', 'Thumbs Down', 'Thumbs Up', \n",
    "                                       'Upgrade', 'famous_artists', 'pay'], outputCol = 'features')\n",
    "all_data = assembler.transform(X)\n",
    "all_data.take(1)"
   ]
  },
  {
   "cell_type": "markdown",
   "metadata": {},
   "source": [
    "# Modeling\n",
    "Split the full dataset into train, test, and validation sets. Test out several of the machine learning methods you learned. Evaluate the accuracy of the various models, tuning parameters as necessary. Determine your winning model based on test accuracy and report results on the validation set. Since the churned users are a fairly small subset, I suggest using F1 score as the metric to optimize."
   ]
  },
  {
   "cell_type": "code",
   "execution_count": 29,
   "metadata": {},
   "outputs": [
    {
     "data": {
      "text/plain": [
       "[Row(target=0, features=SparseVector(19, {0: 1.0, 1: 7.0, 2: 3.0, 6: 10.0, 7: 2.0, 8: 178.0, 9: 17.0, 11: 1.0, 14: 2.0, 15: 14.0, 17: 21.0}))]"
      ]
     },
     "execution_count": 29,
     "metadata": {},
     "output_type": "execute_result"
    }
   ],
   "source": [
    "# Split in train and test data\n",
    "data = all_data.select('target', 'features')\n",
    "(train_data, test_data) = data.randomSplit([0.75, 0.25])\n",
    "train_data.take(1)"
   ]
  },
  {
   "cell_type": "code",
   "execution_count": 30,
   "metadata": {},
   "outputs": [],
   "source": [
    "# Model tuning and validation\n",
    "rfc = RandomForestClassifier(featuresCol='features', labelCol='target')\n",
    "ev = MulticlassClassificationEvaluator(predictionCol='prediction', labelCol='target', metricName='f1')\n",
    "\n",
    "# Define parameters for grid search\n",
    "paramGrid = ParamGridBuilder() \\\n",
    "    .addGrid(rfc.numTrees, [10, 20, 40]) \\\n",
    "    .addGrid(rfc.maxDepth, [4, 5, 6]) \\\n",
    ".build()\n",
    "\n",
    "# Define cross validation parameters\n",
    "crossval = CrossValidator(estimator=rfc,\n",
    "                         estimatorParamMaps=paramGrid,\n",
    "                         evaluator=ev,\n",
    "                         numFolds=3)\n",
    "\n",
    "# Perform Cross-Validation\n",
    "cvModel_rfc = crossval.fit(train_data)"
   ]
  },
  {
   "cell_type": "code",
   "execution_count": 34,
   "metadata": {},
   "outputs": [
    {
     "name": "stdout",
     "output_type": "stream",
     "text": [
      "Score:0.7039377164400474 - Parameters:[('numTrees', 10), ('maxDepth', 4)]\n",
      "Score:0.6949550240907921 - Parameters:[('numTrees', 10), ('maxDepth', 5)]\n",
      "Score:0.706604964254495 - Parameters:[('numTrees', 10), ('maxDepth', 6)]\n",
      "Score:0.7097611499364369 - Parameters:[('numTrees', 20), ('maxDepth', 4)]\n",
      "Score:0.7039377164400474 - Parameters:[('numTrees', 20), ('maxDepth', 5)]\n",
      "Score:0.6978903047322583 - Parameters:[('numTrees', 20), ('maxDepth', 6)]\n",
      "Score:0.7097611499364369 - Parameters:[('numTrees', 40), ('maxDepth', 4)]\n",
      "Score:0.7068766454943001 - Parameters:[('numTrees', 40), ('maxDepth', 5)]\n",
      "Score:0.7286086285540305 - Parameters:[('numTrees', 40), ('maxDepth', 6)]\n"
     ]
    }
   ],
   "source": [
    "# Show different parameters performance\n",
    "scores = cvModel_rfc.avgMetrics\n",
    "param_maps = cvModel_rfc.getEstimatorParamMaps()\n",
    "for n, param_map in enumerate(cvModel_rfc.getEstimatorParamMaps()):\n",
    "    params = [(p[0].name, p[1]) for p in param_map.items()]\n",
    "    print(f\"Score:{cvModel_rfc.avgMetrics[n]} - Parameters:{params}\")"
   ]
  },
  {
   "cell_type": "code",
   "execution_count": 32,
   "metadata": {},
   "outputs": [],
   "source": [
    "# Select Best Model\n",
    "BestModel_rfc = cvModel_rfc.bestModel"
   ]
  },
  {
   "cell_type": "code",
   "execution_count": null,
   "metadata": {},
   "outputs": [],
   "source": [
    "# Save the best model\n",
    "BestModel_rfc.write().overwrite().save(\"cvModel_rfc\")"
   ]
  },
  {
   "cell_type": "code",
   "execution_count": 35,
   "metadata": {},
   "outputs": [
    {
     "data": {
      "image/png": "[encoded data removed]",
      "text/plain": [
       "<Figure size 864x432 with 1 Axes>"
      ]
     },
     "metadata": {
      "needs_background": "light"
     },
     "output_type": "display_data"
    }
   ],
   "source": [
    "# Extract feature importance\n",
    "coefficients = BestModel_rfc.featureImportances.toArray()\n",
    "sort_indx = np.argsort(coefficients)\n",
    "sort_coeff = coefficients[sort_indx]\n",
    "\n",
    "# Plot feature importance\n",
    "plt.figure(figsize = [12, 6])\n",
    "plt.barh(np.arange(len(sort_coeff)), sort_coeff)\n",
    "plt.title(\"Feature relevance for the best model\")\n",
    "plt.xlabel(\"Feature importance\")\n",
    "plt.ylabel(\"Feature name\")\n",
    "plt.yticks(np.arange(len(sort_coeff)), np.array(columns)[sort_indx]);"
   ]
  },
  {
   "cell_type": "code",
   "execution_count": 46,
   "metadata": {},
   "outputs": [],
   "source": [
    "# Extract model metrics\n",
    "preds = BestModel_rfc.transform(test_data)\n",
    "preds_and_labels = preds.select(['prediction','target']).withColumn('label', F.col('target').cast(FloatType())).orderBy('prediction').select(['prediction','label'])\n",
    "metrics = MulticlassMetrics(preds_and_labels.rdd.map(tuple))"
   ]
  },
  {
   "cell_type": "code",
   "execution_count": 86,
   "metadata": {},
   "outputs": [
    {
     "data": {
      "image/png": "[encoded data removed]",
      "text/plain": [
       "<Figure size 432x288 with 2 Axes>"
      ]
     },
     "metadata": {
      "needs_background": "light"
     },
     "output_type": "display_data"
    }
   ],
   "source": [
    "# Plot confusion matrix\n",
    "sns.heatmap(metrics.confusionMatrix().toArray(), cmap=\"YlGnBu\", annot=metrics.confusionMatrix().toArray())\n",
    "plt.xticks(np.arange(2)+0.5, ['Predicted Active', 'Predicted Churn'])\n",
    "plt.yticks(np.arange(2)+0.3, ['Actual Active', 'Actual Churn'])\n",
    "plt.title(\"Confusion Matrix\");"
   ]
  },
  {
   "cell_type": "code",
   "execution_count": 90,
   "metadata": {},
   "outputs": [
    {
     "name": "stdout",
     "output_type": "stream",
     "text": [
      "- f measure class 0 (active users): 0.8043478260869567\n",
      "- f measure class 1 (churn users): 0.1\n",
      "- weighted true/positive rate: 0.6785714285714286\n"
     ]
    }
   ],
   "source": [
    "# Print model metrics\n",
    "print(f\"- f measure class 0 (active users): {metrics.fMeasure(.0)}\")\n",
    "print(f\"- f measure class 1 (churn users): {metrics.fMeasure(1.0)}\")\n",
    "print(f\"- weighted true/positive rate: {metrics.weightedTruePositiveRate}\")"
   ]
  },
  {
   "cell_type": "markdown",
   "metadata": {},
   "source": [
    "#### Performance\n",
    "\n",
    "The performance of the model is not ideal. \n",
    "Looking at the confusion matrix it is clear that the model has suffered the problem of class imbalance. There are a lot of false negatives (churns predicted as active users) only because active users were much more frequent in the dataset.\n",
    "\n",
    "The f-metric confirms that, with a f-score of 0.80 for class 0 and a f-score of 0.1 for class 1.\n",
    "\n",
    "The overall True / Positive ration is around 0.68, however our buisness case is more focussed on correctly identifying true positives."
   ]
  },
  {
   "cell_type": "markdown",
   "metadata": {},
   "source": [
    "#### Features\n",
    "\n",
    "Besides performance, the model can give some insights on which features might be more relevant in this task.\n",
    "Features regarding page activities like \"Add Friend\", \"Thumbs down\", \"Add to playlist\" and \"Downgrade\" share the most importance. \n",
    "On the other side the binary feature regarding user subscription level (\"paid/free\") was not relevant to the model."
   ]
  },
  {
   "cell_type": "markdown",
   "metadata": {},
   "source": [
    "#### Improvements\n",
    "\n",
    "There are a lot of improvements that could be applyed to the project. The data used are just a little portion of a bigger dataset that is available to be analyzed.\n",
    "To analyze a bigger dataset could be a great opportunity to use a cloud computing service (e.g. AWS) and exploit all the power of spark in a distributed system.\n",
    "The model selection could be done via testing various models with a portion of the dataset, selecting the best suited for the current task.\n",
    "Moreover, the classes are imbalanced. Therefore, a downsapling / upsampling approach could be beneficial to the training.\n",
    "Finally, the model tuning could be improved adding extra hyper-parameters in the grid-search."
   ]
  }
 ],
 "metadata": {
  "kernelspec": {
   "display_name": "Python 3.9.6 64-bit",
   "language": "python",
   "name": "python3"
  },
  "language_info": {
   "codemirror_mode": {
    "name": "ipython",
    "version": 3
   },
   "file_extension": ".py",
   "mimetype": "text/x-python",
   "name": "python",
   "nbconvert_exporter": "python",
   "pygments_lexer": "ipython3",
   "version": "3.9.6"
  },
  "vscode": {
   "interpreter": {
    "hash": "c89dac2000cd39b6c6afdbb40384525553e908a214fa5e3caa43ad6708c415f4"
   }
  }
 },
 "nbformat": 4,
 "nbformat_minor": 2
}
